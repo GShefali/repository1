{
 "cells": [
  {
   "cell_type": "code",
   "execution_count": 2,
   "id": "e1b7c764-2d01-4dba-9bce-d4ba451fd4e1",
   "metadata": {},
   "outputs": [],
   "source": [
    "import numpy as np\n",
    "import matplotlib\n",
    "import matplotlib.pyplot as plt\n",
    "import scipy\n",
    "from scipy import stats"
   ]
  },
  {
   "cell_type": "markdown",
   "id": "310b1c60-c967-4e38-aed5-d6f355b4c337",
   "metadata": {},
   "source": [
    "# 1A. Normal Distribution :\n",
    "## a function that represents the distribution of many random variables as a symmetrical bell-shaped graph. The formulae for the function is:\n",
    " $$ f(x) = \\frac{1}{\\sigma\\sqrt{2\\pi}}e^{-\\frac{1}{2}(\\frac{x-\\mu}{\\sigma})^2} $$\n"
   ]
  },
  {
   "cell_type": "markdown",
   "id": "447460f3-f82a-4ea9-a97b-e68a69f25231",
   "metadata": {},
   "source": [
    "# 1 B. Integrating the standard normal distribution. With different sigma values."
   ]
  },
  {
   "cell_type": "markdown",
   "id": "d23ffa5a-b16c-4316-9911-3d65966b94e8",
   "metadata": {},
   "source": [
    "## i) sigma value of 3\n"
   ]
  },
  {
   "cell_type": "code",
   "execution_count": 3,
   "id": "f1f8448c-7e70-4ac7-83ac-ca5bc04cde5a",
   "metadata": {},
   "outputs": [
    {
     "data": {
      "text/plain": [
       "0.0013498980316301035"
      ]
     },
     "execution_count": 3,
     "metadata": {},
     "output_type": "execute_result"
    }
   ],
   "source": [
    "1 - stats.norm.cdf(3)\n"
   ]
  },
  {
   "cell_type": "markdown",
   "id": "ca3018a9-1fa7-41e3-9d5f-a18e4fa62cac",
   "metadata": {},
   "source": [
    "### Probability that a statistic is greater that sigma value of 3 is 0.0013498980316301035"
   ]
  },
  {
   "cell_type": "markdown",
   "id": "f088f0d3-04f5-4e42-a3a1-bc3b2c03df3d",
   "metadata": {},
   "source": [
    "## ii) sigma value of 2"
   ]
  },
  {
   "cell_type": "code",
   "execution_count": 44,
   "id": "da9628c4-a318-47ed-89ac-243d080174a0",
   "metadata": {},
   "outputs": [
    {
     "data": {
      "text/plain": [
       "0.02275013194817921"
      ]
     },
     "execution_count": 44,
     "metadata": {},
     "output_type": "execute_result"
    }
   ],
   "source": [
    "1 - stats.norm.cdf(2)"
   ]
  },
  {
   "cell_type": "markdown",
   "id": "4f46aaa6-486a-48c2-b422-e9addf7d58d9",
   "metadata": {},
   "source": [
    "### Probability that a statistic is greater that sigma value of 2 is 0.02275013194817921"
   ]
  },
  {
   "cell_type": "markdown",
   "id": "a1532386-d613-4566-819a-93e17d9e8e99",
   "metadata": {},
   "source": [
    "## ii) sigma value of 5"
   ]
  },
  {
   "cell_type": "code",
   "execution_count": 46,
   "id": "6e37e115-1cd9-4731-abc3-28da513afeaa",
   "metadata": {},
   "outputs": [
    {
     "data": {
      "text/plain": [
       "2.866515719235352e-07"
      ]
     },
     "execution_count": 46,
     "metadata": {},
     "output_type": "execute_result"
    }
   ],
   "source": [
    "1 - stats.norm.cdf(5)"
   ]
  },
  {
   "cell_type": "markdown",
   "id": "d1c09c0e-f9d9-41db-8553-ccb9eddd8e58",
   "metadata": {},
   "source": [
    "### Probability that a statistic is greater that sigma value of 5 is 2.866515719235352e-07"
   ]
  },
  {
   "cell_type": "markdown",
   "id": "bc2de0be-6789-4fc5-b8e3-bd4bd1c17d80",
   "metadata": {},
   "source": [
    "### All these values match the values from the z table"
   ]
  },
  {
   "cell_type": "markdown",
   "id": "5ababfde-29a8-4005-b8ba-edbaa14700b6",
   "metadata": {},
   "source": [
    "# 1 C. For a given probability determine the associated 'sigma' value: stats.norm.ppf()"
   ]
  },
  {
   "cell_type": "markdown",
   "id": "f3cd26ae-5369-427d-a398-aa68ac3df23e",
   "metadata": {},
   "source": [
    "## i) for a probability of 0.9986501019683699\n"
   ]
  },
  {
   "cell_type": "code",
   "execution_count": 6,
   "id": "b234cadf-8cba-4d95-ab57-68c90295dc72",
   "metadata": {},
   "outputs": [
    {
     "data": {
      "text/plain": [
       "2.9999999999999982"
      ]
     },
     "execution_count": 6,
     "metadata": {},
     "output_type": "execute_result"
    }
   ],
   "source": [
    "stats.norm.ppf(0.9986501019683699)"
   ]
  },
  {
   "cell_type": "markdown",
   "id": "f1ebb9b6-c724-42a2-a746-c2eae8c3ad79",
   "metadata": {},
   "source": [
    "For a probability of 0.9986501019683699 the statistic should lie below 2.9999999999999982 sigma"
   ]
  },
  {
   "cell_type": "markdown",
   "id": "2fd3248d-b965-43f4-a431-3f44a51add34",
   "metadata": {},
   "source": [
    "## verify the value"
   ]
  },
  {
   "cell_type": "code",
   "execution_count": 7,
   "id": "b68bcf3f-088f-46fa-beb9-d3d21ad278ec",
   "metadata": {},
   "outputs": [
    {
     "data": {
      "text/plain": [
       "0.9986501019683699"
      ]
     },
     "execution_count": 7,
     "metadata": {},
     "output_type": "execute_result"
    }
   ],
   "source": [
    "stats.norm.cdf(2.9999999999999982)"
   ]
  },
  {
   "cell_type": "markdown",
   "id": "0b09b38b-e9fa-4472-b7fa-0e6143a15d47",
   "metadata": {},
   "source": [
    "## ii) for a probability of 0.013456666663\n"
   ]
  },
  {
   "cell_type": "code",
   "execution_count": 8,
   "id": "d4705055-4d99-4fbf-a41c-e593896b425e",
   "metadata": {},
   "outputs": [
    {
     "data": {
      "text/plain": [
       "-2.2127725115082124"
      ]
     },
     "execution_count": 8,
     "metadata": {},
     "output_type": "execute_result"
    }
   ],
   "source": [
    "stats.norm.ppf(0.013456666663)"
   ]
  },
  {
   "cell_type": "markdown",
   "id": "cb20289c-62ee-4660-8064-deb388a87c4e",
   "metadata": {},
   "source": [
    "For a probability of 0.013456666663 the statistic should lie below -2.2127725115082124 sigma"
   ]
  },
  {
   "cell_type": "markdown",
   "id": "9b2cc60b-bf10-42e8-bc64-acae7dfd707f",
   "metadata": {},
   "source": [
    "## verify the value"
   ]
  },
  {
   "cell_type": "code",
   "execution_count": 9,
   "id": "bb7dbb00-c3f9-401b-9871-ec2bb70d3fe3",
   "metadata": {},
   "outputs": [
    {
     "data": {
      "text/plain": [
       "0.013456666663"
      ]
     },
     "execution_count": 9,
     "metadata": {},
     "output_type": "execute_result"
    }
   ],
   "source": [
    "stats.norm.cdf(-2.2127725115082124)"
   ]
  },
  {
   "cell_type": "markdown",
   "id": "cf16f59f-9436-4593-9d80-b198141baf52",
   "metadata": {},
   "source": [
    "## iii) for a probability of 0.64321266"
   ]
  },
  {
   "cell_type": "code",
   "execution_count": 10,
   "id": "5e92f680-c2ce-4012-8e0d-91cee47fcaca",
   "metadata": {},
   "outputs": [
    {
     "data": {
      "text/plain": [
       "0.3670594412812346"
      ]
     },
     "execution_count": 10,
     "metadata": {},
     "output_type": "execute_result"
    }
   ],
   "source": [
    "stats.norm.ppf(0.64321266)"
   ]
  },
  {
   "cell_type": "markdown",
   "id": "dc8f3490-c36d-4460-8657-ed86167d2b82",
   "metadata": {},
   "source": [
    "For a probability of  0.64321266 the statistic should lie below 0.3670594412812346 sigma"
   ]
  },
  {
   "cell_type": "markdown",
   "id": "b3139d85-0566-4c67-82cf-1c238247a5c6",
   "metadata": {},
   "source": [
    "## verify the value"
   ]
  },
  {
   "cell_type": "code",
   "execution_count": 11,
   "id": "a2fbe97b-000a-470e-bd57-1c2128eba2cc",
   "metadata": {},
   "outputs": [
    {
     "data": {
      "text/plain": [
       "0.64321266"
      ]
     },
     "execution_count": 11,
     "metadata": {},
     "output_type": "execute_result"
    }
   ],
   "source": [
    "stats.norm.cdf(0.3670594412812346)"
   ]
  },
  {
   "cell_type": "markdown",
   "id": "939e918c-77a9-46d7-af82-f1ff076ca3ec",
   "metadata": {},
   "source": [
    "# 1 D. Explain the negative sigma value"
   ]
  },
  {
   "cell_type": "markdown",
   "id": "52d830ab-b927-48e2-8439-7a691e81a321",
   "metadata": {},
   "source": [
    " ### The sigma value for the center of the distribution is 0, thus for a point to the left of the distribution (which has a probability less than 50%) has a negative sigma."
   ]
  },
  {
   "attachments": {
    "7fc058b5-a936-416f-8d80-92511b0b20ca.png": {
     "image/png": "[encoded data removed]"
    }
   },
   "cell_type": "markdown",
   "id": "e7a20fbd-fb4e-4f1c-a847-a8d1eb11c53c",
   "metadata": {},
   "source": [
    "# 2 A. Rayleigh Distribution\n",
    "### In probability theory and statistics, the Rayleigh distribution is a continuous probability \n",
    "### distribution for nonnegative-valued random variables. Up to rescaling, it coincides with the \n",
    "### chi distribution with two degrees of freedom.\n",
    "![image.png](attachment:7fc058b5-a936-416f-8d80-92511b0b20ca.png)"
   ]
  },
  {
   "cell_type": "markdown",
   "id": "28031ad4-0998-467f-943d-f57068286c07",
   "metadata": {},
   "source": [
    "# 2 B. Plots"
   ]
  },
  {
   "cell_type": "markdown",
   "id": "7b9e3acf-a36d-491e-b6f4-b3f270a1dc3a",
   "metadata": {},
   "source": [
    "## Plot 1:"
   ]
  },
  {
   "cell_type": "code",
   "execution_count": 12,
   "id": "49702235-568f-4ae6-a7a7-f375eb82a5ac",
   "metadata": {},
   "outputs": [],
   "source": [
    "d = stats.rayleigh.rvs(loc = 3.0, scale = .01, size = 100000)"
   ]
  },
  {
   "cell_type": "code",
   "execution_count": 13,
   "id": "017c867f-808d-4240-8daf-82773dc16afd",
   "metadata": {},
   "outputs": [
    {
     "data": {
      "image/png": "[encoded data removed]",
      "text/plain": [
       "<Figure size 504x360 with 1 Axes>"
      ]
     },
     "metadata": {
      "needs_background": "light"
     },
     "output_type": "display_data"
    }
   ],
   "source": [
    "plt.rcParams[\"figure.figsize\"] = (7,5)\n",
    "fig, ax = plt.subplots(1, 1)\n",
    "ax.hist(d,50, density = True)\n",
    "plt.tick_params(labelsize = 24)\n",
    "plt.xlim([2.95,3.05])\n",
    "plt.yscale('log')\n",
    "x = np.linspace(2.95,3.05,1000)\n",
    "ax.plot(x,stats.rayleigh.pdf(x,loc = 3., scale = 0.01),linewidth = 8,alpha = 0.7)\n",
    "plt.show()"
   ]
  },
  {
   "cell_type": "markdown",
   "id": "dcc069e2-1381-4f50-875a-cdf97328aa25",
   "metadata": {},
   "source": [
    "## Plot 2:"
   ]
  },
  {
   "cell_type": "code",
   "execution_count": 14,
   "id": "6f260f12-77cd-427b-9d8e-f98b11f574d9",
   "metadata": {},
   "outputs": [],
   "source": [
    "d = stats.rayleigh.rvs(loc = 2.96, scale = .01, size = 100000)"
   ]
  },
  {
   "cell_type": "code",
   "execution_count": 15,
   "id": "e4544155-2d9d-42dd-b02e-a056847eae1a",
   "metadata": {},
   "outputs": [
    {
     "data": {
      "image/png": "[encoded data removed]",
      "text/plain": [
       "<Figure size 504x360 with 1 Axes>"
      ]
     },
     "metadata": {
      "needs_background": "light"
     },
     "output_type": "display_data"
    }
   ],
   "source": [
    "plt.rcParams[\"figure.figsize\"] = (7,5)\n",
    "fig, ax = plt.subplots(1, 1)\n",
    "ax.hist(d,50, density = True)\n",
    "plt.tick_params(labelsize = 24)\n",
    "plt.xlim([2.95,3.05])\n",
    "plt.yscale('log')\n",
    "x = np.linspace(2.95,3.05,1000)\n",
    "ax.plot(x,stats.rayleigh.pdf(x,loc = 2.96, scale = 0.01),linewidth = 8,alpha = 0.7)\n",
    "plt.show()"
   ]
  },
  {
   "cell_type": "code",
   "execution_count": 16,
   "id": "baf43020-b898-4d21-8599-ea73781bf9d5",
   "metadata": {},
   "outputs": [],
   "source": [
    "d = stats.rayleigh.rvs(loc = 2.96, scale = .1, size = 100000)"
   ]
  },
  {
   "cell_type": "code",
   "execution_count": 17,
   "id": "b417c8d7-bc47-4885-8b11-d942a3495a7e",
   "metadata": {},
   "outputs": [
    {
     "data": {
      "image/png": "[encoded data removed]",
      "text/plain": [
       "<Figure size 504x360 with 1 Axes>"
      ]
     },
     "metadata": {
      "needs_background": "light"
     },
     "output_type": "display_data"
    }
   ],
   "source": [
    "plt.rcParams[\"figure.figsize\"] = (7,5)\n",
    "fig, ax = plt.subplots(1, 1)\n",
    "ax.hist(d,50, density = True)\n",
    "plt.tick_params(labelsize = 24)\n",
    "#plt.xlim([2.95,3.05])\n",
    "plt.yscale('log')\n",
    "x = np.linspace(2.95,4.05,1000)\n",
    "ax.plot(x,stats.rayleigh.pdf(x,loc = 2.96, scale = 0.1),linewidth = 8,alpha = 0.7)\n",
    "plt.show()"
   ]
  },
  {
   "cell_type": "markdown",
   "id": "bba8bb88-aa13-4ac9-9a45-5f6392790627",
   "metadata": {},
   "source": [
    "# 3a) Select a value for your hypothetical measurement\n"
   ]
  },
  {
   "cell_type": "markdown",
   "id": "9f62eae9-87b1-4d6d-a521-afbf7ee7b3f6",
   "metadata": {},
   "source": [
    "## 3.034 or greater"
   ]
  },
  {
   "cell_type": "markdown",
   "id": "61df655d-04b2-4c0d-99c9-e0880a398ccd",
   "metadata": {},
   "source": [
    "# 3b) Clearly state the statistical question you want to ask in words"
   ]
  },
  {
   "cell_type": "markdown",
   "id": "504b5693-180b-41b1-9d41-cded005ac433",
   "metadata": {},
   "source": [
    "## What is the probability of my background giving me data points that look signal like (when the location of my data is 3)  for values above 3.034?"
   ]
  },
  {
   "cell_type": "markdown",
   "id": "dec485ea-c559-41be-b080-d364093883f6",
   "metadata": {},
   "source": [
    "# 3c) Convert your word question into a mathematical integral"
   ]
  },
  {
   "cell_type": "markdown",
   "id": "1077381f-532e-445b-99d9-116f7d0f9c45",
   "metadata": {},
   "source": [
    "\n",
    "\n",
    "$ \\LARGE \\int_{3.034}^{\\infty} \\text{f}(x) {dx} $\n",
    "\n",
    "f(x; sigma) = x * exp(-x2/2 σ2) / σ2,x≥0,\n"
   ]
  },
  {
   "cell_type": "markdown",
   "id": "d7125620-dc33-4517-90aa-a26f83d410a7",
   "metadata": {},
   "source": [
    "# 3d) Use the math to calculate the probability that the background produced the signal 3.034 or greater\n",
    "\n"
   ]
  },
  {
   "cell_type": "code",
   "execution_count": 49,
   "id": "b9fb2fca-0493-4d9a-9f56-98900bf02346",
   "metadata": {},
   "outputs": [
    {
     "data": {
      "text/plain": [
       "0.003088715408236964"
      ]
     },
     "execution_count": 49,
     "metadata": {},
     "output_type": "execute_result"
    }
   ],
   "source": [
    "1 - (stats.rayleigh.cdf(3.034, loc = 3, scale = 0.01))"
   ]
  },
  {
   "cell_type": "markdown",
   "id": "ab79ebd2-8b0c-4c29-9eb4-9b91944c6476",
   "metadata": {},
   "source": [
    "# 3e) Convert your probability into an equivalent 'sigma'\n"
   ]
  },
  {
   "cell_type": "code",
   "execution_count": 19,
   "id": "c1d365ad-84cc-4f62-bd30-cc9916485e67",
   "metadata": {},
   "outputs": [
    {
     "data": {
      "text/plain": [
       "0.996911284591763"
      ]
     },
     "execution_count": 19,
     "metadata": {},
     "output_type": "execute_result"
    }
   ],
   "source": [
    "1 - 0.003088715408236964"
   ]
  },
  {
   "cell_type": "code",
   "execution_count": 20,
   "id": "c6d3c0ef-119f-4836-8666-905102a85aee",
   "metadata": {},
   "outputs": [
    {
     "data": {
      "text/plain": [
       "2.7382116374077743"
      ]
     },
     "execution_count": 20,
     "metadata": {},
     "output_type": "execute_result"
    }
   ],
   "source": [
    "stats.norm.ppf(0.996911284591763)\n"
   ]
  },
  {
   "cell_type": "markdown",
   "id": "2fa51226-d913-4746-8983-93c92199c26a",
   "metadata": {},
   "source": [
    "# 4) More hypothetical values:"
   ]
  },
  {
   "cell_type": "markdown",
   "id": "2bf6b6b7-dace-446e-9c55-ec46b5b48c8b",
   "metadata": {},
   "source": [
    "## i) 3.074 or greater\n"
   ]
  },
  {
   "cell_type": "markdown",
   "id": "28744d07-f4a9-49f5-9d70-409058981217",
   "metadata": {},
   "source": [
    "### Probability"
   ]
  },
  {
   "cell_type": "code",
   "execution_count": 21,
   "id": "b270f48c-c0d7-4952-bbd4-6ed96ba5dabd",
   "metadata": {},
   "outputs": [
    {
     "data": {
      "text/plain": [
       "1.2853051956085437e-12"
      ]
     },
     "execution_count": 21,
     "metadata": {},
     "output_type": "execute_result"
    }
   ],
   "source": [
    "1 - (stats.rayleigh.cdf(3.074, loc = 3, scale = 0.01))"
   ]
  },
  {
   "cell_type": "markdown",
   "id": "6871b279-6200-4eed-99db-b07945d42916",
   "metadata": {},
   "source": [
    "### Sigma"
   ]
  },
  {
   "cell_type": "code",
   "execution_count": 22,
   "id": "79f824f0-570f-4335-93ae-e91ac64220f4",
   "metadata": {},
   "outputs": [
    {
     "data": {
      "text/plain": [
       "6.999399967957707"
      ]
     },
     "execution_count": 22,
     "metadata": {},
     "output_type": "execute_result"
    }
   ],
   "source": [
    "stats.norm.ppf(1-1.2853051956085437e-12)"
   ]
  },
  {
   "cell_type": "markdown",
   "id": "42ce319a-1c7e-4faf-b7af-7b817fbd0478",
   "metadata": {},
   "source": [
    "## ii) 3.01 or greater"
   ]
  },
  {
   "cell_type": "markdown",
   "id": "5830eb3f-237b-4958-96db-6b0efc665d4a",
   "metadata": {},
   "source": [
    "## Probability"
   ]
  },
  {
   "cell_type": "code",
   "execution_count": 23,
   "id": "5933c141-1d3d-4c71-907e-5b654c42a918",
   "metadata": {},
   "outputs": [
    {
     "data": {
      "text/plain": [
       "0.6065306597126463"
      ]
     },
     "execution_count": 23,
     "metadata": {},
     "output_type": "execute_result"
    }
   ],
   "source": [
    "1 - (stats.rayleigh.cdf(3.01, loc = 3, scale = 0.01))"
   ]
  },
  {
   "cell_type": "markdown",
   "id": "209b5418-0a68-4a8e-88c2-095ccc161f67",
   "metadata": {},
   "source": [
    "## Sigma"
   ]
  },
  {
   "cell_type": "code",
   "execution_count": 24,
   "id": "1ae07543-0d39-41cf-a405-055dbc530266",
   "metadata": {},
   "outputs": [
    {
     "data": {
      "text/plain": [
       "-0.27028802073876934"
      ]
     },
     "execution_count": 24,
     "metadata": {},
     "output_type": "execute_result"
    }
   ],
   "source": [
    "stats.norm.ppf(1 - 0.6065306597126463)"
   ]
  },
  {
   "cell_type": "markdown",
   "id": "7a624f4a-eb6b-4fd2-9d30-865b8e95f121",
   "metadata": {},
   "source": [
    "## iii) 3.03 or greater"
   ]
  },
  {
   "cell_type": "markdown",
   "id": "86f200bc-632b-4ebf-ad93-00a198a261ab",
   "metadata": {},
   "source": [
    "## Probability"
   ]
  },
  {
   "cell_type": "code",
   "execution_count": 25,
   "id": "630bedf3-0fc0-48f6-a022-626d8e4c1e76",
   "metadata": {},
   "outputs": [
    {
     "data": {
      "text/plain": [
       "0.011108996538242932"
      ]
     },
     "execution_count": 25,
     "metadata": {},
     "output_type": "execute_result"
    }
   ],
   "source": [
    "1 - (stats.rayleigh.cdf(3.03, loc = 3, scale = 0.01))"
   ]
  },
  {
   "cell_type": "markdown",
   "id": "4889ad8e-daf6-494d-a683-62ecbbc7bbe3",
   "metadata": {},
   "source": [
    "## Sigma"
   ]
  },
  {
   "cell_type": "code",
   "execution_count": 26,
   "id": "8058b713-082e-46af-bd37-b0d72033cbaf",
   "metadata": {},
   "outputs": [
    {
     "data": {
      "text/plain": [
       "2.2866203381785883"
      ]
     },
     "execution_count": 26,
     "metadata": {},
     "output_type": "execute_result"
    }
   ],
   "source": [
    "stats.norm.ppf(1 - 0.011108996538242932)"
   ]
  },
  {
   "cell_type": "markdown",
   "id": "57e3c6ed-c4e9-4d61-b601-7c58afc73e24",
   "metadata": {},
   "source": [
    "## Trends:\n",
    "### With the increase in hypothetical value sigma increases"
   ]
  },
  {
   "cell_type": "markdown",
   "id": "02a9fc2c-30db-44f2-b60c-7f0d6bb2ab32",
   "metadata": {},
   "source": [
    "# Non continuous Distributions"
   ]
  },
  {
   "cell_type": "markdown",
   "id": "ad5159b9-fd9b-471a-93bd-40e67f5d21cf",
   "metadata": {},
   "source": [
    "# 1a)Binomial Distributions\n",
    "###  binomial distribution is the discrete probability distribution that gives only two possible results in an experiment, either Success or Failure.\n",
    "### P(x:n,p) = nCx px (1-p)n-x"
   ]
  },
  {
   "cell_type": "markdown",
   "id": "bcca94c8-5cab-4c5d-bd3b-0cebaccf3ad2",
   "metadata": {},
   "source": [
    "## 1b) Plot 1:"
   ]
  },
  {
   "cell_type": "code",
   "execution_count": 27,
   "id": "7be3e156-bea9-4dad-9dca-2ec97f04f27f",
   "metadata": {},
   "outputs": [],
   "source": [
    "x = np.linspace(1,100,100)\n",
    "#x = list(range(101))"
   ]
  },
  {
   "cell_type": "code",
   "execution_count": 28,
   "id": "88446edb-ebf7-42e2-8464-c46f6b67aace",
   "metadata": {},
   "outputs": [],
   "source": [
    "p = .5"
   ]
  },
  {
   "cell_type": "code",
   "execution_count": 29,
   "id": "e32469a3-7643-491c-9d5a-8819eec72914",
   "metadata": {},
   "outputs": [],
   "source": [
    "n = 100\n",
    "d = stats.binom.rvs(n,p)"
   ]
  },
  {
   "cell_type": "code",
   "execution_count": 30,
   "id": "5f0c32e5-2eb5-40ba-8453-ff3ef90f2b96",
   "metadata": {},
   "outputs": [
    {
     "data": {
      "image/png": "[encoded data removed]",
      "text/plain": [
       "<Figure size 504x360 with 1 Axes>"
      ]
     },
     "metadata": {
      "needs_background": "light"
     },
     "output_type": "display_data"
    },
    {
     "data": {
      "text/plain": [
       "<Figure size 504x360 with 0 Axes>"
      ]
     },
     "metadata": {},
     "output_type": "display_data"
    }
   ],
   "source": [
    "plt.rcParams[\"figure.figsize\"] = (7,5)\n",
    "fig, ax = plt.subplots(1, 1, sharex = True, sharey = True)\n",
    "#ax.hist(d,50, density = True)\n",
    "plt.tick_params(labelsize = 1)\n",
    "#plt.yscale('log')\n",
    "#ax.plot(x,stats.binom.pmf(x,n, p),linewidth = 8,alpha = 0.7)\n",
    "ax.stairs(stats.binom.pmf(x,n, p),list(range(101)),fill = True)\n",
    "plt.show()\n",
    "ax.set_xticks(np.arange(0,100,10))\n",
    "plt.tight_layout()"
   ]
  },
  {
   "cell_type": "markdown",
   "id": "be12ae29-5f6b-471c-b7e9-76d1daf94fe4",
   "metadata": {},
   "source": [
    "## Plot 2:"
   ]
  },
  {
   "cell_type": "code",
   "execution_count": 31,
   "id": "9c4f7655-21ee-4ae5-99e2-dc42714f1c9c",
   "metadata": {},
   "outputs": [
    {
     "data": {
      "image/png": "[encoded data removed]",
      "text/plain": [
       "<Figure size 504x360 with 1 Axes>"
      ]
     },
     "metadata": {
      "needs_background": "light"
     },
     "output_type": "display_data"
    }
   ],
   "source": [
    "x = np.linspace(1,100,100)\n",
    "p = .7\n",
    "n = 100\n",
    "d = stats.binom.rvs(n,p)\n",
    "plt.rcParams[\"figure.figsize\"] = (7,5)\n",
    "fig, ax = plt.subplots(1, 1)\n",
    "#ax.hist(d,50, density = True)\n",
    "plt.tick_params(labelsize = 10)\n",
    "#plt.yscale('log')\n",
    "#ax.plot(x,stats.binom.pmf(x,n, p),linewidth = 8,alpha = 0.7)\n",
    "ax.stairs(stats.binom.pmf(x,n, p),list(range(101)),fill = True)\n",
    "\n",
    "plt.show()"
   ]
  },
  {
   "cell_type": "code",
   "execution_count": 32,
   "id": "a92f45b6-141c-4295-bc3b-e676f1d20a2d",
   "metadata": {},
   "outputs": [
    {
     "data": {
      "image/png": "[encoded data removed]",
      "text/plain": [
       "<Figure size 504x360 with 1 Axes>"
      ]
     },
     "metadata": {
      "needs_background": "light"
     },
     "output_type": "display_data"
    }
   ],
   "source": [
    "x = np.linspace(1,100,100)\n",
    "p = .3\n",
    "n = 100\n",
    "d = stats.binom.rvs(n,p)\n",
    "plt.rcParams[\"figure.figsize\"] = (7,5)\n",
    "fig, ax = plt.subplots(1, 1)\n",
    "#ax.hist(d,50, density = True)\n",
    "plt.tick_params(labelsize = 10)\n",
    "#plt.yscale('log')\n",
    "#ax.plot(x,stats.binom.pmf(x,n, p),linewidth = 8,alpha = 0.7)\n",
    "ax.stairs(stats.binom.pmf(x,n, p),list(range(101)),fill = True)\n",
    "plt.show()"
   ]
  },
  {
   "cell_type": "markdown",
   "id": "815a3260-0bbb-47d1-b394-e16dec66b5bf",
   "metadata": {},
   "source": [
    "## 1C) hypothetical question and corresponding probability"
   ]
  },
  {
   "cell_type": "markdown",
   "id": "8887c80c-e3e1-44d2-ae5f-9d66f897b0de",
   "metadata": {},
   "source": [
    "## Hypothetical Question\n",
    "### The probability of measuring 40 events or more when the probability of the event is .5 and the number of trials is 100.\n",
    "## Corresponding Probability"
   ]
  },
  {
   "cell_type": "code",
   "execution_count": 39,
   "id": "a6a7862d-b453-4094-9ae1-b06849548294",
   "metadata": {},
   "outputs": [],
   "source": [
    "p = .5\n",
    "n = 100\n"
   ]
  },
  {
   "cell_type": "code",
   "execution_count": 43,
   "id": "c3244655-0e5b-4eae-b6b3-6e13204e31da",
   "metadata": {},
   "outputs": [
    {
     "data": {
      "text/plain": [
       "0.9715560331795096"
      ]
     },
     "execution_count": 43,
     "metadata": {},
     "output_type": "execute_result"
    }
   ],
   "source": [
    "1 - stats.binom.cdf(40, n, p, loc = 0)"
   ]
  },
  {
   "cell_type": "markdown",
   "id": "ff63b893-735f-459e-9bd7-8fd25b4b8ba2",
   "metadata": {},
   "source": [
    "## 1D) Because the distributions are discrete, so are the probabilities and 'sigmas'. Think about this and discuss the implications for experiments."
   ]
  },
  {
   "cell_type": "markdown",
   "id": "3afb4bd6-4e37-41f6-b431-fddf251323d3",
   "metadata": {},
   "source": [
    "### Even though the probabilities and 'sigmas' are finite and discrete the probability still adds up to 1.Unlike a continues distribution for discrete distribution you can find the probability of a specific value (it need not be a range).There are only finite number of probability."
   ]
  },
  {
   "cell_type": "markdown",
   "id": "53734369-e9f4-4caf-a4e3-9ad56a0d1bec",
   "metadata": {},
   "source": [
    "## 1E)While the results are discrete, the parameters of the distributions are not."
   ]
  },
  {
   "cell_type": "markdown",
   "id": "e6c93058-57b6-44be-ab87-04ddb352b31d",
   "metadata": {},
   "source": [
    "### Even though the number of times an event occurs needs to be an integer the average value of number of events need not be as you are summing the integers and dividing them. for eg if the number o events are 3 and 4 their average is 3.5"
   ]
  },
  {
   "cell_type": "code",
   "execution_count": null,
   "id": "e1f5dd81-9334-4a23-b2b4-0115fc9ff88f",
   "metadata": {},
   "outputs": [],
   "source": []
  }
 ],
 "metadata": {
  "kernelspec": {
   "display_name": "Python 3",
   "language": "python",
   "name": "python3"
  },
  "language_info": {
   "codemirror_mode": {
    "name": "ipython",
    "version": 3
   },
   "file_extension": ".py",
   "mimetype": "text/x-python",
   "name": "python",
   "nbconvert_exporter": "python",
   "pygments_lexer": "ipython3",
   "version": "3.8.8"
  }
 },
 "nbformat": 4,
 "nbformat_minor": 5
}
