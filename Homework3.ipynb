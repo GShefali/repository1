{
 "cells": [
  {
   "cell_type": "markdown",
   "id": "07e871c4-640d-4a68-bb49-af866d2c3fa0",
   "metadata": {},
   "source": [
    "1a) Which algorithm makes the fewest mistakes?"
   ]
  },
  {
   "cell_type": "markdown",
   "id": "28c5d43a-b10c-434b-91cd-fed05fa09623",
   "metadata": {},
   "source": [
    "NN makes makes 8 mistakes while NA makes 11 mistakes. Thus, NN makes the fewest mistakes"
   ]
  },
  {
   "cell_type": "markdown",
   "id": "22d18f08-c8ee-4c1e-ae51-fcccf6041b49",
   "metadata": {},
   "source": [
    "1b) Which algorithm is better for the zoo? Explain."
   ]
  },
  {
   "cell_type": "markdown",
   "id": "5c0b0538-1bb7-4753-9fbe-844ca9a46a1e",
   "metadata": {},
   "source": [
    "NA classifies 1 bird as person while NN classifies 3 birds as person thus, NA is better for the zoo."
   ]
  },
  {
   "cell_type": "markdown",
   "id": "7ec8aa06-2c70-4d58-ada0-2e1939fab657",
   "metadata": {},
   "source": [
    "1c) During the pandemic the number of visitors plummets, and it is only the zoo keeper visiting. So instead of 52% of the photos taken at the aviary door being people, it is now only 1%. Make new truth tables for both algorithms."
   ]
  },
  {
   "cell_type": "markdown",
   "id": "fefd7fae-86d3-42c9-ae4a-33c15bad2fe7",
   "metadata": {},
   "source": [
    "for NN algorithm previously:\n",
    "\n",
    "total number of birds: 48\n",
    "\n",
    "number identified correctly: 45\n",
    "\n",
    "percent identified correct: 93.75%\n",
    "\n",
    "number identified wrongly: 3\n",
    "\n",
    "percent identified wrongly:6.25%\n",
    "\n",
    "total number of persons: 52\n",
    "\n",
    "number identified correctly: 47\n",
    "\n",
    "percent identified correctly: 90.3846154%\n",
    "\n",
    "number identified wrongly:5\n",
    "\n",
    "percent identified wrongly:9.61538462%\n"
   ]
  },
  {
   "cell_type": "markdown",
   "id": "007ad14f-a08a-45e1-b50d-e3032ff1d25c",
   "metadata": {},
   "source": [
    "Currently for NN algorithm :\n",
    "\n",
    "total photos : 100\n",
    "\n",
    "total number of birds: 99\n",
    "\n",
    "percent identified correctly : 93.75%\n",
    "\n",
    "number identified correctly:92.8125\n",
    "\n",
    "percent identified wrongly:6.25%\n",
    "\n",
    "number identified wrongly: 6.1875\n",
    "\n",
    "total number of persons : 1\n",
    "\n",
    "percent identified correctly: 90.3846154%\n",
    "\n",
    "number identified correctly:.903846154\n",
    "\n",
    "percent identified wrongly: 9.61538462%\n",
    "\n",
    "number identified wrongly: .0961538462"
   ]
  },
  {
   "cell_type": "raw",
   "id": "d5f0c096-6be7-4057-b3ca-e6be6dfb5c20",
   "metadata": {},
   "source": [
    "             True Bird         True Person\n",
    "   \n",
    " NN bird      92.8125          .0961538462\n",
    " \n",
    " NN person    6.1875           .903846154\n",
    "   "
   ]
  },
  {
   "cell_type": "markdown",
   "id": "99c46073-a548-4609-9a7b-d5d01403ecc2",
   "metadata": {},
   "source": [
    "for NA algorithm(previously):\n",
    "\n",
    "total photos : 100\n",
    "\n",
    "total number of birds: 48\n",
    "\n",
    "number identified correctly: 47\n",
    "\n",
    "percent identified correct: 97.9166667%\n",
    "\n",
    "number identified wrongly: 1\n",
    "\n",
    "percent identified wrongly:2.08333333%\n",
    "\n",
    "total number of persons: 52\n",
    "\n",
    "number identified correctly:41\n",
    "\n",
    "percent identified correct: 78.8461538%\n",
    "\n",
    "number identified wrongly: 11\n",
    "\n",
    "percent identified wrongly: 21.1538462%\n"
   ]
  },
  {
   "cell_type": "markdown",
   "id": "c0960b67-9d49-4e0a-b6a8-7fe86563d451",
   "metadata": {},
   "source": [
    "currently for NA algorithm :\n",
    "\n",
    "total number of birds: 99\n",
    "\n",
    "percent identified correct: 97.9166667%\n",
    "\n",
    "number identified correctly:96.9375\n",
    "\n",
    "percent identified wrongly:2.08333333%\n",
    "\n",
    "number identified wrongly: 2.0625\n",
    "\n",
    "total number of persons : 1\n",
    "\n",
    "percent identified correct: 78.8461538%\n",
    "\n",
    "number identified correctly: .788461538\n",
    "\n",
    "percent identified wrongly: 21.1538462%\n",
    "\n",
    "number identified wrongly: .211538462\n",
    "\n",
    " "
   ]
  },
  {
   "cell_type": "raw",
   "id": "f0334069-2720-4dcd-a298-73894a54dc15",
   "metadata": {},
   "source": [
    "            True Bird    True Person\n",
    "          \n",
    "NA Bird     96.9375      .211538462\n",
    "\n",
    "NA person   2.0625        .788461538"
   ]
  },
  {
   "cell_type": "markdown",
   "id": "18b6caef-620a-4809-aced-ff8e7e82cd0c",
   "metadata": {},
   "source": [
    "2a) PDF of the sum of n identical exponential distributions with rate parameter β is a gamma (n, β) distribution with shape parameter n and rate parameter β. Since n is an integer, the gamma distribution is also a Erlang distribution.\n",
    "In our case, n=2.\n",
    "exponential distributions are special cases of the gamma distributions. If the shape parameter k is held fixed, the resulting one-parameter family of distributions is a natural exponential family."
   ]
  },
  {
   "cell_type": "markdown",
   "id": "c2b9cd35-b149-4c71-a16c-fa2cfcdbffbf",
   "metadata": {},
   "source": [
    "2b) PDF of the ratio of two zero-mean unity variance normal distributions X1/X2 is a Cauchy distribution with location parameter x0 = 0 and half width at half maximum (scale parameter) lambda = 1\n",
    "The scale parameter is given by the ratio of variances of the distributions X1 and X2, which in this case is 1."
   ]
  },
  {
   "cell_type": "markdown",
   "id": "636158aa-9238-4f14-820e-2eedd0b75eb7",
   "metadata": {},
   "source": [
    "2c) The PDF of amplitude of a 2D Gaussian can only have positive values. This directs me to read about non-negative continuous distributions. I look at the Wikipedia page and find that pdf of amplitude of Gaussians of zero mean and sigma_squared varianve is Rayleigh Distribution with shape parameter sigma."
   ]
  },
  {
   "cell_type": "code",
   "execution_count": 1,
   "id": "7eef4cab-acd2-4730-a357-8bbbc2a232b5",
   "metadata": {},
   "outputs": [
    {
     "data": {
      "text/plain": [
       "0"
      ]
     },
     "execution_count": 1,
     "metadata": {},
     "output_type": "execute_result"
    }
   ],
   "source": [
    "import os\n",
    "os.system('jupyter nbconvert --to html Homework3.ipynb')"
   ]
  },
  {
   "cell_type": "code",
   "execution_count": null,
   "id": "6ea4f8b7-0adc-4b56-8622-165e31a8152d",
   "metadata": {},
   "outputs": [],
   "source": []
  }
 ],
 "metadata": {
  "kernelspec": {
   "display_name": "Python 3",
   "language": "python",
   "name": "python3"
  },
  "language_info": {
   "codemirror_mode": {
    "name": "ipython",
    "version": 3
   },
   "file_extension": ".py",
   "mimetype": "text/x-python",
   "name": "python",
   "nbconvert_exporter": "python",
   "pygments_lexer": "ipython3",
   "version": "3.8.8"
  }
 },
 "nbformat": 4,
 "nbformat_minor": 5
}
